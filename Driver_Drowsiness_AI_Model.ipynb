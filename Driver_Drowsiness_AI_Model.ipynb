{
 "cells": [
  {
   "cell_type": "markdown",
   "metadata": {},
   "source": [
    "# Driver Drowsiness Detection using CNN\n",
    "\n",
    "**Credit: [AITS Cainvas Community](https://discord.gg/x6xn39u)**\n",
    "\n",
    "![](https://cainvas-static.s3.amazonaws.com/media/user_data/cainvas-admin/sleepy.gif)\n",
    "\n",
    "*Photo by [Isaac](https://dribbble.com/shots/6465822-Sleepy-head) on [Dribbble](https://dribbble.com)*\n",
    "\n",
    "According to a report, around 40% of road accidents that happen on highways are caused by Drowsy Driving.\n",
    "This project aims at detecting whether a driver is feeling drowsy or is active while driving based on whether both the eyes of the driver are closed representing drowsiness or both the eyes are open using a CNN architecture."
   ]
  },
  {
   "cell_type": "markdown",
   "metadata": {},
   "source": [
    "## Importing necessary libraries.."
   ]
  },
  {
   "cell_type": "code",
   "execution_count": 1,
   "metadata": {
    "execution": {
     "iopub.execute_input": "2022-02-27T23:35:29.471881Z",
     "iopub.status.busy": "2022-02-27T23:35:29.471539Z",
     "iopub.status.idle": "2022-02-27T23:35:48.855581Z",
     "shell.execute_reply": "2022-02-27T23:35:48.854424Z",
     "shell.execute_reply.started": "2022-02-27T23:35:29.471845Z"
    }
   },
   "outputs": [
    {
     "name": "stderr",
     "output_type": "stream",
     "text": [
      "Matplotlib is building the font cache; this may take a moment.\n"
     ]
    }
   ],
   "source": [
    "import numpy as np\n",
    "import cv2\n",
    "from tensorflow.keras.layers import Input, Conv2D, BatchNormalization, Dropout, Flatten, Dense, MaxPool2D\n",
    "from tensorflow.keras.models import Model, Sequential\n",
    "from tensorflow.keras.initializers import glorot_uniform\n",
    "from tensorflow.keras.optimizers import Adam, SGD\n",
    "import matplotlib.pyplot as plt\n",
    "from sklearn.metrics import classification_report\n",
    "from tensorflow.keras.preprocessing.image import ImageDataGenerator\n",
    "from sklearn.model_selection import train_test_split\n",
    "from tensorflow.keras.utils import to_categorical\n",
    "from sklearn.preprocessing import LabelEncoder\n",
    "from sklearn.metrics import classification_report, confusion_matrix\n",
    "import seaborn as sns\n",
    "from tensorflow.keras.regularizers import l2\n",
    "import tensorflow as tf\n",
    "import pandas as pd\n",
    "from imutils.face_utils import FaceAligner\n",
    "from imutils.face_utils import rect_to_bb\n",
    "import imutils\n",
    "import dlib"
   ]
  },
  {
   "cell_type": "markdown",
   "metadata": {},
   "source": [
    "## Loading the dataset and the test images\n",
    "You can upload your own test images also."
   ]
  },
  {
   "cell_type": "code",
   "execution_count": 2,
   "metadata": {
    "execution": {
     "iopub.execute_input": "2022-02-27T23:35:48.857668Z",
     "iopub.status.busy": "2022-02-27T23:35:48.857373Z",
     "iopub.status.idle": "2022-02-27T23:35:57.167875Z",
     "shell.execute_reply": "2022-02-27T23:35:57.166701Z",
     "shell.execute_reply.started": "2022-02-27T23:35:48.857632Z"
    }
   },
   "outputs": [
    {
     "name": "stdout",
     "output_type": "stream",
     "text": [
      "--2022-02-27 23:35:48--  https://cainvas-static.s3.amazonaws.com/media/user_data/cainvas-admin/driver_drowsiness_detection_modified.zip\n",
      "Resolving cainvas-static.s3.amazonaws.com (cainvas-static.s3.amazonaws.com)... 52.219.66.56\n",
      "Connecting to cainvas-static.s3.amazonaws.com (cainvas-static.s3.amazonaws.com)|52.219.66.56|:443... connected.\n",
      "HTTP request sent, awaiting response... 200 OK\n",
      "Length: 127436131 (122M) [application/x-zip-compressed]\n",
      "Saving to: ‘driver_drowsiness_detection_modified.zip’\n",
      "\n",
      "driver_drowsiness_d 100%[===================>] 121.53M  48.3MB/s    in 2.5s    \n",
      "\n",
      "2022-02-27 23:35:51 (48.3 MB/s) - ‘driver_drowsiness_detection_modified.zip’ saved [127436131/127436131]\n",
      "\n"
     ]
    }
   ],
   "source": [
    "!wget https://cainvas-static.s3.amazonaws.com/media/user_data/cainvas-admin/driver_drowsiness_detection_modified.zip\n",
    "!unzip -qo driver_drowsiness_detection_modified.zip"
   ]
  },
  {
   "cell_type": "markdown",
   "metadata": {},
   "source": [
    "## Loading the images and labels and Preprocessing the Dataset\n",
    "\n",
    "Input Shape of Images for the CNN model - (32, 32, 3) <br>\n",
    "Dataset os split into Train Set and Test Set with test set containing 20% of the total number of images<br>\n",
    "Labels -> 0 - Closed Eye<br>\n",
    "          1 - Open Eye\n"
   ]
  },
  {
   "cell_type": "code",
   "execution_count": 3,
   "metadata": {
    "execution": {
     "iopub.execute_input": "2022-02-27T23:35:57.171015Z",
     "iopub.status.busy": "2022-02-27T23:35:57.170686Z",
     "iopub.status.idle": "2022-02-27T23:35:59.179478Z",
     "shell.execute_reply": "2022-02-27T23:35:59.178525Z",
     "shell.execute_reply.started": "2022-02-27T23:35:57.170971Z"
    }
   },
   "outputs": [
    {
     "name": "stdout",
     "output_type": "stream",
     "text": [
      "1452\n",
      "1452\n"
     ]
    }
   ],
   "source": [
    "data = np.load('driver_drowsiness_detection/dataset_compressed.npz', allow_pickle=True)\n",
    "X = data['arr_0']\n",
    "Y = data['arr_1']\n",
    "\n",
    "X = list(X)\n",
    "Y = list(Y)\n",
    "print(len(X))\n",
    "print(len(Y))"
   ]
  },
  {
   "cell_type": "code",
   "execution_count": 4,
   "metadata": {
    "execution": {
     "iopub.execute_input": "2022-02-27T23:35:59.182031Z",
     "iopub.status.busy": "2022-02-27T23:35:59.181343Z",
     "iopub.status.idle": "2022-02-27T23:35:59.287465Z",
     "shell.execute_reply": "2022-02-27T23:35:59.286521Z",
     "shell.execute_reply.started": "2022-02-27T23:35:59.181982Z"
    }
   },
   "outputs": [
    {
     "name": "stdout",
     "output_type": "stream",
     "text": [
      "1452\n",
      "(32, 32, 3)\n"
     ]
    }
   ],
   "source": [
    "for i in range(len(X)):\n",
    "    img = X[i]\n",
    "    img = cv2.resize(img, (32, 32))\n",
    "    X[i] = img\n",
    "    \n",
    "print(len(X))\n",
    "print(X[0].shape)"
   ]
  },
  {
   "cell_type": "code",
   "execution_count": 5,
   "metadata": {
    "execution": {
     "iopub.execute_input": "2022-02-27T23:35:59.289393Z",
     "iopub.status.busy": "2022-02-27T23:35:59.288881Z",
     "iopub.status.idle": "2022-02-27T23:35:59.371286Z",
     "shell.execute_reply": "2022-02-27T23:35:59.370510Z",
     "shell.execute_reply.started": "2022-02-27T23:35:59.289359Z"
    }
   },
   "outputs": [
    {
     "name": "stdout",
     "output_type": "stream",
     "text": [
      "(1452,)\n",
      "0\n",
      "{0, 1}\n"
     ]
    }
   ],
   "source": [
    "label_encoder = LabelEncoder()\n",
    "Y = label_encoder.fit_transform(Y)\n",
    "print(Y.shape)\n",
    "print(Y[0])\n",
    "print(set(Y))"
   ]
  },
  {
   "cell_type": "code",
   "execution_count": 6,
   "metadata": {
    "execution": {
     "iopub.execute_input": "2022-02-27T23:35:59.373171Z",
     "iopub.status.busy": "2022-02-27T23:35:59.372647Z",
     "iopub.status.idle": "2022-02-27T23:35:59.454530Z",
     "shell.execute_reply": "2022-02-27T23:35:59.453332Z",
     "shell.execute_reply.started": "2022-02-27T23:35:59.373137Z"
    }
   },
   "outputs": [
    {
     "name": "stdout",
     "output_type": "stream",
     "text": [
      "(1452, 32, 32, 3)\n",
      "(1452,)\n"
     ]
    }
   ],
   "source": [
    "X = np.array(X)\n",
    "Y = np.array(Y)\n",
    "print(X.shape)\n",
    "print(Y.shape)"
   ]
  },
  {
   "cell_type": "code",
   "execution_count": 7,
   "metadata": {
    "execution": {
     "iopub.execute_input": "2022-02-27T23:35:59.457050Z",
     "iopub.status.busy": "2022-02-27T23:35:59.456281Z",
     "iopub.status.idle": "2022-02-27T23:35:59.471433Z",
     "shell.execute_reply": "2022-02-27T23:35:59.470516Z",
     "shell.execute_reply.started": "2022-02-27T23:35:59.456997Z"
    }
   },
   "outputs": [],
   "source": [
    "X_train, X_test, Y_train, Y_test = train_test_split(X, Y, test_size=0.2)"
   ]
  },
  {
   "cell_type": "code",
   "execution_count": 8,
   "metadata": {
    "execution": {
     "iopub.execute_input": "2022-02-27T23:35:59.473535Z",
     "iopub.status.busy": "2022-02-27T23:35:59.472918Z",
     "iopub.status.idle": "2022-02-27T23:35:59.495481Z",
     "shell.execute_reply": "2022-02-27T23:35:59.494544Z",
     "shell.execute_reply.started": "2022-02-27T23:35:59.473493Z"
    }
   },
   "outputs": [
    {
     "name": "stdout",
     "output_type": "stream",
     "text": [
      "(1161, 32, 32, 3)\n",
      "(1161,)\n",
      "(291, 32, 32, 3)\n",
      "(291,)\n",
      "(1161, 32, 32, 3)\n",
      "(1161, 2)\n",
      "(291, 32, 32, 3)\n",
      "(291, 2)\n"
     ]
    }
   ],
   "source": [
    "print(X_train.shape)\n",
    "print(Y_train.shape)\n",
    "print(X_test.shape)\n",
    "print(Y_test.shape)\n",
    "\n",
    "Y_train = to_categorical(Y_train)\n",
    "Y_test = to_categorical(Y_test)\n",
    "\n",
    "print(X_train.shape)\n",
    "print(Y_train.shape)\n",
    "print(X_test.shape)\n",
    "print(Y_test.shape)"
   ]
  },
  {
   "cell_type": "markdown",
   "metadata": {},
   "source": [
    "## Visualizing images of Closed Eye and Open Eye from the Dataset"
   ]
  },
  {
   "cell_type": "code",
   "execution_count": 9,
   "metadata": {
    "execution": {
     "iopub.execute_input": "2022-02-27T23:35:59.589794Z",
     "iopub.status.busy": "2022-02-27T23:35:59.589270Z",
     "iopub.status.idle": "2022-02-27T23:36:00.669960Z",
     "shell.execute_reply": "2022-02-27T23:36:00.668923Z",
     "shell.execute_reply.started": "2022-02-27T23:35:59.589765Z"
    }
   },
   "outputs": [
    {
     "data": {
      "image/png": "[encoded data removed]",
      "text/plain": [
       "<Figure size 360x360 with 1 Axes>"
      ]
     },
     "metadata": {
      "needs_background": "light"
     },
     "output_type": "display_data"
    },
    {
     "data": {
      "image/png": "[encoded data removed]",
      "text/plain": [
       "<Figure size 360x360 with 1 Axes>"
      ]
     },
     "metadata": {
      "needs_background": "light"
     },
     "output_type": "display_data"
    }
   ],
   "source": [
    "figure1 = plt.figure(figsize=(5, 5))\n",
    "idx_closed = np.where(Y==0)\n",
    "img_closed = X[idx_closed[0][0]]\n",
    "plt.imshow(img_closed)\n",
    "plt.title('Image of Closed Eye representing Driver is sleeping')\n",
    "plt.axis('off')\n",
    "plt.show()\n",
    "\n",
    "figure2 = plt.figure(figsize=(5, 5))\n",
    "idx_open = np.where(Y==1)\n",
    "img_open = X[idx_open[0][0]]\n",
    "plt.imshow(img_open)\n",
    "plt.title('Image of Open Eye representing Driver is not sleeping')\n",
    "plt.axis('off')\n",
    "plt.show()"
   ]
  },
  {
   "cell_type": "markdown",
   "metadata": {},
   "source": [
    "## Visualizing the Data Distribution in Train and Test Set"
   ]
  },
  {
   "cell_type": "code",
   "execution_count": 10,
   "metadata": {
    "execution": {
     "iopub.execute_input": "2022-02-27T23:36:00.672418Z",
     "iopub.status.busy": "2022-02-27T23:36:00.672017Z",
     "iopub.status.idle": "2022-02-27T23:36:01.476629Z",
     "shell.execute_reply": "2022-02-27T23:36:01.474546Z",
     "shell.execute_reply.started": "2022-02-27T23:36:00.672384Z"
    }
   },
   "outputs": [
    {
     "name": "stderr",
     "output_type": "stream",
     "text": [
      "/opt/tljh/user/lib/python3.7/site-packages/seaborn/_decorators.py:43: FutureWarning: Pass the following variables as keyword args: x, y. From version 0.12, the only valid positional argument will be `data`, and passing other arguments without an explicit keyword will result in an error or misinterpretation.\n",
      "  FutureWarning\n"
     ]
    },
    {
     "data": {
      "image/png": "[encoded data removed]",
      "text/plain": [
       "<Figure size 1440x720 with 1 Axes>"
      ]
     },
     "metadata": {
      "needs_background": "light"
     },
     "output_type": "display_data"
    }
   ],
   "source": [
    "unique_train, count = np.unique(Y_train, return_counts=True)\n",
    "plt.figure(figsize=(20, 10))\n",
    "sns.barplot(unique_train, count).set_title(\"Number of training images per category:\")\n",
    "plt.show()"
   ]
  },
  {
   "cell_type": "code",
   "execution_count": 11,
   "metadata": {
    "execution": {
     "iopub.execute_input": "2022-02-27T23:36:01.478455Z",
     "iopub.status.busy": "2022-02-27T23:36:01.478128Z",
     "iopub.status.idle": "2022-02-27T23:36:02.094797Z",
     "shell.execute_reply": "2022-02-27T23:36:02.093981Z",
     "shell.execute_reply.started": "2022-02-27T23:36:01.478416Z"
    }
   },
   "outputs": [
    {
     "name": "stderr",
     "output_type": "stream",
     "text": [
      "/opt/tljh/user/lib/python3.7/site-packages/seaborn/_decorators.py:43: FutureWarning: Pass the following variables as keyword args: x, y. From version 0.12, the only valid positional argument will be `data`, and passing other arguments without an explicit keyword will result in an error or misinterpretation.\n",
      "  FutureWarning\n"
     ]
    },
    {
     "data": {
      "image/png": "[encoded data removed]",
      "text/plain": [
       "<Figure size 1440x720 with 1 Axes>"
      ]
     },
     "metadata": {
      "needs_background": "light"
     },
     "output_type": "display_data"
    }
   ],
   "source": [
    "unique_test, count_test = np.unique(Y_test, return_counts=True)\n",
    "plt.figure(figsize=(20, 10))\n",
    "sns.barplot(unique_test, count_test).set_title(\"Number of training images per category:\")\n",
    "plt.show()"
   ]
  },
  {
   "cell_type": "markdown",
   "metadata": {},
   "source": [
    "As can be seen from the bar plots that the dataset is already balanced so no need to perform dataset balancing"
   ]
  },
  {
   "cell_type": "markdown",
   "metadata": {},
   "source": [
    "## Defining the Model Architecture"
   ]
  },
  {
   "cell_type": "code",
   "execution_count": 12,
   "metadata": {
    "execution": {
     "iopub.execute_input": "2022-02-27T23:36:02.154550Z",
     "iopub.status.busy": "2022-02-27T23:36:02.154220Z",
     "iopub.status.idle": "2022-02-27T23:36:02.254305Z",
     "shell.execute_reply": "2022-02-27T23:36:02.253112Z",
     "shell.execute_reply.started": "2022-02-27T23:36:02.154516Z"
    }
   },
   "outputs": [],
   "source": [
    "def driver_drowsiness_detection_model(input_shape=(32, 32, 3)):\n",
    "    model = Sequential()\n",
    "    model.add(Input(shape=input_shape))\n",
    "    model.add(Conv2D(32, (3, 3), padding='same', strides=(1, 1), name='conv1', activation='relu', \n",
    "                     kernel_initializer=glorot_uniform(seed=0)))\n",
    "    model.add(BatchNormalization())\n",
    "    model.add(Conv2D(32, (3, 3), padding='same', strides=(1, 1), name='conv2', activation='relu', \n",
    "                     kernel_initializer=glorot_uniform(seed=0)))\n",
    "    model.add(BatchNormalization())\n",
    "    model.add(Dropout(0.2))\n",
    "    model.add(MaxPool2D((2, 2), strides=(2, 2)))\n",
    "    \n",
    "    model.add(Conv2D(64, (3, 3), padding='same', strides=(1, 1), name='conv3', activation='relu', \n",
    "                     kernel_initializer=glorot_uniform(seed=0)))\n",
    "    model.add(BatchNormalization())\n",
    "    model.add(MaxPool2D((2, 2), strides=(2, 2)))\n",
    "    model.add(Conv2D(64, (3, 3), padding='same', strides=(1, 1), name='conv4', activation='relu', \n",
    "                     kernel_initializer=glorot_uniform(seed=0)))\n",
    "    model.add(BatchNormalization())\n",
    "    model.add(Dropout(0.3))\n",
    "    model.add(MaxPool2D((2, 2), strides=(2, 2)))\n",
    "    \n",
    "    model.add(Conv2D(64, (3, 3), padding='same', strides=(1, 1), name='conv5', activation='relu', \n",
    "                     kernel_initializer=glorot_uniform(seed=0)))\n",
    "    model.add(BatchNormalization())\n",
    "    model.add(Conv2D(64, (3, 3), padding='same', strides=(1, 1), name='conv6', activation='relu', \n",
    "                     kernel_initializer=glorot_uniform(seed=0)))\n",
    "    model.add(BatchNormalization())\n",
    "    model.add(Conv2D(64, (3, 3), padding='same', strides=(1, 1), name='conv7', activation='relu', \n",
    "                     kernel_initializer=glorot_uniform(seed=0)))\n",
    "    model.add(BatchNormalization())\n",
    "    model.add(Dropout(0.4))\n",
    "    model.add(MaxPool2D((2, 2), strides=(2, 2)))\n",
    "    \n",
    "    \n",
    "    model.add(Flatten())\n",
    "    model.add(Dense(128, activation='relu', kernel_initializer=glorot_uniform(seed=0), name='fc1'))\n",
    "    model.add(Dropout(0.5))\n",
    "    model.add(Dense(128, activation='relu', kernel_initializer=glorot_uniform(seed=0), name='fc2'))\n",
    "    model.add(Dropout(0.5))\n",
    "    model.add(Dense(2, activation='softmax', kernel_initializer=glorot_uniform(seed=0), name='fc3'))\n",
    "    \n",
    "    optimizer = Adam(0.0001)\n",
    "    model.compile(optimizer=optimizer, loss='categorical_crossentropy', metrics=['accuracy'])\n",
    "    return model"
   ]
  },
  {
   "cell_type": "code",
   "execution_count": 13,
   "metadata": {
    "execution": {
     "iopub.execute_input": "2022-02-27T23:36:02.256533Z",
     "iopub.status.busy": "2022-02-27T23:36:02.255924Z",
     "iopub.status.idle": "2022-02-27T23:36:04.754412Z",
     "shell.execute_reply": "2022-02-27T23:36:04.686311Z",
     "shell.execute_reply.started": "2022-02-27T23:36:02.256493Z"
    }
   },
   "outputs": [
    {
     "name": "stdout",
     "output_type": "stream",
     "text": [
      "Model: \"sequential\"\n",
      "_________________________________________________________________\n",
      "Layer (type)                 Output Shape              Param #   \n",
      "=================================================================\n",
      "conv1 (Conv2D)               (None, 32, 32, 32)        896       \n",
      "_________________________________________________________________\n",
      "batch_normalization (BatchNo (None, 32, 32, 32)        128       \n",
      "_________________________________________________________________\n",
      "conv2 (Conv2D)               (None, 32, 32, 32)        9248      \n",
      "_________________________________________________________________\n",
      "batch_normalization_1 (Batch (None, 32, 32, 32)        128       \n",
      "_________________________________________________________________\n",
      "dropout (Dropout)            (None, 32, 32, 32)        0         \n",
      "_________________________________________________________________\n",
      "max_pooling2d (MaxPooling2D) (None, 16, 16, 32)        0         \n",
      "_________________________________________________________________\n",
      "conv3 (Conv2D)               (None, 16, 16, 64)        18496     \n",
      "_________________________________________________________________\n",
      "batch_normalization_2 (Batch (None, 16, 16, 64)        256       \n",
      "_________________________________________________________________\n",
      "max_pooling2d_1 (MaxPooling2 (None, 8, 8, 64)          0         \n",
      "_________________________________________________________________\n",
      "conv4 (Conv2D)               (None, 8, 8, 64)          36928     \n",
      "_________________________________________________________________\n",
      "batch_normalization_3 (Batch (None, 8, 8, 64)          256       \n",
      "_________________________________________________________________\n",
      "dropout_1 (Dropout)          (None, 8, 8, 64)          0         \n",
      "_________________________________________________________________\n",
      "max_pooling2d_2 (MaxPooling2 (None, 4, 4, 64)          0         \n",
      "_________________________________________________________________\n",
      "conv5 (Conv2D)               (None, 4, 4, 64)          36928     \n",
      "_________________________________________________________________\n",
      "batch_normalization_4 (Batch (None, 4, 4, 64)          256       \n",
      "_________________________________________________________________\n",
      "conv6 (Conv2D)               (None, 4, 4, 64)          36928     \n",
      "_________________________________________________________________\n",
      "batch_normalization_5 (Batch (None, 4, 4, 64)          256       \n",
      "_________________________________________________________________\n",
      "conv7 (Conv2D)               (None, 4, 4, 64)          36928     \n",
      "_________________________________________________________________\n",
      "batch_normalization_6 (Batch (None, 4, 4, 64)          256       \n",
      "_________________________________________________________________\n",
      "dropout_2 (Dropout)          (None, 4, 4, 64)          0         \n",
      "_________________________________________________________________\n",
      "max_pooling2d_3 (MaxPooling2 (None, 2, 2, 64)          0         \n",
      "_________________________________________________________________\n",
      "flatten (Flatten)            (None, 256)               0         \n",
      "_________________________________________________________________\n",
      "fc1 (Dense)                  (None, 128)               32896     \n",
      "_________________________________________________________________\n",
      "dropout_3 (Dropout)          (None, 128)               0         \n",
      "_________________________________________________________________\n",
      "fc2 (Dense)                  (None, 128)               16512     \n",
      "_________________________________________________________________\n",
      "dropout_4 (Dropout)          (None, 128)               0         \n",
      "_________________________________________________________________\n",
      "fc3 (Dense)                  (None, 2)                 258       \n",
      "=================================================================\n",
      "Total params: 227,554\n",
      "Trainable params: 226,786\n",
      "Non-trainable params: 768\n",
      "_________________________________________________________________\n"
     ]
    }
   ],
   "source": [
    "model= driver_drowsiness_detection_model(input_shape=(32, 32, 3))\n",
    "model.summary()"
   ]
  },
  {
   "cell_type": "markdown",
   "metadata": {},
   "source": [
    "### Training the Model\n",
    "\n",
    "Learning Rate - 0.0001<br>\n",
    "Optimizer - Adam<br>\n",
    "Number of Epochs - 200<br>\n",
    "Batch Size = 128<br>"
   ]
  },
  {
   "cell_type": "code",
   "execution_count": null,
   "metadata": {
    "execution": {
     "iopub.execute_input": "2022-02-27T23:36:04.756279Z",
     "iopub.status.busy": "2022-02-27T23:36:04.755967Z"
    }
   },
   "outputs": [
    {
     "name": "stdout",
     "output_type": "stream",
     "text": [
      "Epoch 1/200\n",
      "10/10 [==============================] - 35s 4s/step - loss: 1.3985 - accuracy: 0.4978 - val_loss: 0.6764 - val_accuracy: 0.5189\n",
      "Epoch 2/200\n",
      "10/10 [==============================] - 35s 3s/step - loss: 1.2382 - accuracy: 0.5435 - val_loss: 0.6786 - val_accuracy: 0.5258\n",
      "Epoch 3/200\n",
      "10/10 [==============================] - 33s 3s/step - loss: 1.0927 - accuracy: 0.5564 - val_loss: 0.6598 - val_accuracy: 0.5773\n",
      "Epoch 4/200\n",
      "10/10 [==============================] - 34s 3s/step - loss: 0.9415 - accuracy: 0.5874 - val_loss: 0.6345 - val_accuracy: 0.6289\n",
      "Epoch 5/200\n",
      "10/10 [==============================] - 33s 3s/step - loss: 0.8793 - accuracy: 0.5978 - val_loss: 0.6229 - val_accuracy: 0.7216\n",
      "Epoch 6/200\n",
      "10/10 [==============================] - 37s 4s/step - loss: 0.8366 - accuracy: 0.6038 - val_loss: 0.6186 - val_accuracy: 0.7251\n",
      "Epoch 7/200\n",
      "10/10 [==============================] - 34s 3s/step - loss: 0.8717 - accuracy: 0.6055 - val_loss: 0.6144 - val_accuracy: 0.7629\n",
      "Epoch 8/200\n",
      "10/10 [==============================] - 34s 3s/step - loss: 0.8013 - accuracy: 0.5935 - val_loss: 0.6139 - val_accuracy: 0.7526\n",
      "Epoch 9/200\n",
      "10/10 [==============================] - 35s 4s/step - loss: 0.7606 - accuracy: 0.6236 - val_loss: 0.6102 - val_accuracy: 0.7354\n",
      "Epoch 10/200\n",
      "10/10 [==============================] - 34s 3s/step - loss: 0.7221 - accuracy: 0.6348 - val_loss: 0.6046 - val_accuracy: 0.7113\n",
      "Epoch 11/200\n",
      "10/10 [==============================] - 34s 3s/step - loss: 0.7242 - accuracy: 0.6296 - val_loss: 0.6010 - val_accuracy: 0.7045\n",
      "Epoch 12/200\n",
      "10/10 [==============================] - 37s 4s/step - loss: 0.7402 - accuracy: 0.6055 - val_loss: 0.5949 - val_accuracy: 0.7010\n",
      "Epoch 13/200\n",
      "10/10 [==============================] - 32s 3s/step - loss: 0.7124 - accuracy: 0.6581 - val_loss: 0.5864 - val_accuracy: 0.7113\n",
      "Epoch 14/200\n",
      "10/10 [==============================] - 33s 3s/step - loss: 0.6904 - accuracy: 0.6736 - val_loss: 0.5767 - val_accuracy: 0.7216\n",
      "Epoch 15/200\n",
      "10/10 [==============================] - 36s 4s/step - loss: 0.6230 - accuracy: 0.6727 - val_loss: 0.5681 - val_accuracy: 0.7216\n",
      "Epoch 16/200\n",
      "10/10 [==============================] - 36s 4s/step - loss: 0.6773 - accuracy: 0.6477 - val_loss: 0.5591 - val_accuracy: 0.7216\n",
      "Epoch 17/200\n",
      "10/10 [==============================] - 33s 3s/step - loss: 0.6766 - accuracy: 0.6796 - val_loss: 0.5417 - val_accuracy: 0.7354\n",
      "Epoch 18/200\n",
      "10/10 [==============================] - 33s 3s/step - loss: 0.5847 - accuracy: 0.7149 - val_loss: 0.5270 - val_accuracy: 0.7423\n",
      "Epoch 19/200\n",
      "10/10 [==============================] - 33s 3s/step - loss: 0.5868 - accuracy: 0.7080 - val_loss: 0.5116 - val_accuracy: 0.7560\n",
      "Epoch 20/200\n",
      "10/10 [==============================] - 32s 3s/step - loss: 0.5627 - accuracy: 0.7330 - val_loss: 0.4978 - val_accuracy: 0.7629\n",
      "Epoch 21/200\n",
      "10/10 [==============================] - 34s 3s/step - loss: 0.5686 - accuracy: 0.7046 - val_loss: 0.4829 - val_accuracy: 0.7904\n",
      "Epoch 22/200\n",
      "10/10 [==============================] - 34s 3s/step - loss: 0.5645 - accuracy: 0.7183 - val_loss: 0.4649 - val_accuracy: 0.8179\n",
      "Epoch 23/200\n",
      "10/10 [==============================] - 33s 3s/step - loss: 0.5425 - accuracy: 0.7313 - val_loss: 0.4492 - val_accuracy: 0.8179\n",
      "Epoch 24/200\n",
      "10/10 [==============================] - 34s 3s/step - loss: 0.5140 - accuracy: 0.7382 - val_loss: 0.4331 - val_accuracy: 0.8247\n",
      "Epoch 25/200\n",
      "10/10 [==============================] - 33s 3s/step - loss: 0.5280 - accuracy: 0.7554 - val_loss: 0.4197 - val_accuracy: 0.8316\n",
      "Epoch 26/200\n",
      "10/10 [==============================] - 35s 3s/step - loss: 0.5208 - accuracy: 0.7450 - val_loss: 0.4038 - val_accuracy: 0.8488\n",
      "Epoch 27/200\n",
      "10/10 [==============================] - 34s 3s/step - loss: 0.5104 - accuracy: 0.7614 - val_loss: 0.3888 - val_accuracy: 0.8591\n",
      "Epoch 28/200\n",
      "10/10 [==============================] - 37s 4s/step - loss: 0.4794 - accuracy: 0.7735 - val_loss: 0.3735 - val_accuracy: 0.8694\n",
      "Epoch 29/200\n",
      "10/10 [==============================] - 34s 3s/step - loss: 0.4859 - accuracy: 0.7580 - val_loss: 0.3621 - val_accuracy: 0.8763\n",
      "Epoch 30/200\n",
      "10/10 [==============================] - 35s 4s/step - loss: 0.4335 - accuracy: 0.7993 - val_loss: 0.3479 - val_accuracy: 0.8832\n",
      "Epoch 31/200\n",
      "10/10 [==============================] - 34s 3s/step - loss: 0.4269 - accuracy: 0.7993 - val_loss: 0.3326 - val_accuracy: 0.8866\n",
      "Epoch 32/200\n",
      "10/10 [==============================] - 33s 3s/step - loss: 0.4269 - accuracy: 0.8062 - val_loss: 0.3174 - val_accuracy: 0.8969\n",
      "Epoch 33/200\n",
      "10/10 [==============================] - 33s 3s/step - loss: 0.4152 - accuracy: 0.8243 - val_loss: 0.3050 - val_accuracy: 0.9072\n",
      "Epoch 34/200\n",
      "10/10 [==============================] - 33s 3s/step - loss: 0.4175 - accuracy: 0.8105 - val_loss: 0.2914 - val_accuracy: 0.9107\n",
      "Epoch 35/200\n",
      "10/10 [==============================] - 32s 3s/step - loss: 0.4020 - accuracy: 0.8329 - val_loss: 0.2809 - val_accuracy: 0.9175\n",
      "Epoch 36/200\n",
      "10/10 [==============================] - 35s 3s/step - loss: 0.3822 - accuracy: 0.8363 - val_loss: 0.2704 - val_accuracy: 0.9210\n",
      "Epoch 37/200\n",
      "10/10 [==============================] - 34s 3s/step - loss: 0.4044 - accuracy: 0.8252 - val_loss: 0.2584 - val_accuracy: 0.9210\n",
      "Epoch 38/200\n",
      "10/10 [==============================] - 34s 3s/step - loss: 0.3895 - accuracy: 0.8269 - val_loss: 0.2450 - val_accuracy: 0.9244\n",
      "Epoch 39/200\n",
      "10/10 [==============================] - 35s 4s/step - loss: 0.3812 - accuracy: 0.8467 - val_loss: 0.2265 - val_accuracy: 0.9278\n",
      "Epoch 40/200\n",
      "10/10 [==============================] - 34s 3s/step - loss: 0.3138 - accuracy: 0.8605 - val_loss: 0.2137 - val_accuracy: 0.9381\n",
      "Epoch 41/200\n",
      "10/10 [==============================] - 35s 3s/step - loss: 0.3459 - accuracy: 0.8587 - val_loss: 0.2069 - val_accuracy: 0.9416\n",
      "Epoch 42/200\n",
      "10/10 [==============================] - 34s 3s/step - loss: 0.3243 - accuracy: 0.8630 - val_loss: 0.2008 - val_accuracy: 0.9416\n",
      "Epoch 43/200\n",
      "10/10 [==============================] - 38s 4s/step - loss: 0.3003 - accuracy: 0.8691 - val_loss: 0.1931 - val_accuracy: 0.9485\n",
      "Epoch 44/200\n",
      "10/10 [==============================] - 36s 4s/step - loss: 0.3062 - accuracy: 0.8768 - val_loss: 0.1863 - val_accuracy: 0.9519\n",
      "Epoch 45/200\n",
      "10/10 [==============================] - 35s 3s/step - loss: 0.2935 - accuracy: 0.8923 - val_loss: 0.1808 - val_accuracy: 0.9519\n",
      "Epoch 46/200\n",
      "10/10 [==============================] - 35s 3s/step - loss: 0.2965 - accuracy: 0.8751 - val_loss: 0.1765 - val_accuracy: 0.9519\n",
      "Epoch 47/200\n",
      "10/10 [==============================] - 34s 3s/step - loss: 0.2618 - accuracy: 0.9027 - val_loss: 0.1708 - val_accuracy: 0.9553\n",
      "Epoch 48/200\n",
      "10/10 [==============================] - 34s 3s/step - loss: 0.2444 - accuracy: 0.8941 - val_loss: 0.1663 - val_accuracy: 0.9553\n",
      "Epoch 49/200\n",
      "10/10 [==============================] - 36s 4s/step - loss: 0.2732 - accuracy: 0.9044 - val_loss: 0.1646 - val_accuracy: 0.9553\n",
      "Epoch 50/200\n",
      "10/10 [==============================] - 34s 3s/step - loss: 0.2618 - accuracy: 0.8966 - val_loss: 0.1652 - val_accuracy: 0.9519\n",
      "Epoch 51/200\n",
      "10/10 [==============================] - 35s 4s/step - loss: 0.2480 - accuracy: 0.8975 - val_loss: 0.1617 - val_accuracy: 0.9553\n",
      "Epoch 52/200\n",
      "10/10 [==============================] - 34s 3s/step - loss: 0.2383 - accuracy: 0.9053 - val_loss: 0.1582 - val_accuracy: 0.9553\n",
      "Epoch 53/200\n",
      "10/10 [==============================] - 34s 3s/step - loss: 0.2248 - accuracy: 0.9121 - val_loss: 0.1581 - val_accuracy: 0.9519\n",
      "Epoch 54/200\n",
      "10/10 [==============================] - 32s 3s/step - loss: 0.2438 - accuracy: 0.9182 - val_loss: 0.1571 - val_accuracy: 0.9553\n",
      "Epoch 55/200\n",
      "10/10 [==============================] - 34s 3s/step - loss: 0.2241 - accuracy: 0.9018 - val_loss: 0.1530 - val_accuracy: 0.9553\n",
      "Epoch 56/200\n",
      "10/10 [==============================] - 31s 3s/step - loss: 0.2019 - accuracy: 0.9242 - val_loss: 0.1510 - val_accuracy: 0.9519\n",
      "Epoch 57/200\n",
      "10/10 [==============================] - 29s 3s/step - loss: 0.2024 - accuracy: 0.9199 - val_loss: 0.1552 - val_accuracy: 0.9519\n",
      "Epoch 58/200\n",
      "10/10 [==============================] - 28s 3s/step - loss: 0.2111 - accuracy: 0.9251 - val_loss: 0.1446 - val_accuracy: 0.9519\n",
      "Epoch 59/200\n",
      "10/10 [==============================] - 28s 3s/step - loss: 0.2072 - accuracy: 0.9156 - val_loss: 0.1443 - val_accuracy: 0.9553\n",
      "Epoch 60/200\n",
      "10/10 [==============================] - 30s 3s/step - loss: 0.1902 - accuracy: 0.9225 - val_loss: 0.1415 - val_accuracy: 0.9519\n",
      "Epoch 61/200\n",
      "10/10 [==============================] - 27s 3s/step - loss: 0.1766 - accuracy: 0.9294 - val_loss: 0.1397 - val_accuracy: 0.9519\n",
      "Epoch 62/200\n",
      "10/10 [==============================] - 30s 3s/step - loss: 0.1952 - accuracy: 0.9276 - val_loss: 0.1460 - val_accuracy: 0.9588\n",
      "Epoch 63/200\n",
      "10/10 [==============================] - 28s 3s/step - loss: 0.1752 - accuracy: 0.9311 - val_loss: 0.1479 - val_accuracy: 0.9553\n",
      "Epoch 64/200\n",
      "10/10 [==============================] - 28s 3s/step - loss: 0.1921 - accuracy: 0.9406 - val_loss: 0.1522 - val_accuracy: 0.9553\n",
      "Epoch 65/200\n",
      "10/10 [==============================] - 29s 3s/step - loss: 0.1665 - accuracy: 0.9414 - val_loss: 0.1529 - val_accuracy: 0.9553\n",
      "Epoch 66/200\n",
      "10/10 [==============================] - 28s 3s/step - loss: 0.1863 - accuracy: 0.9414 - val_loss: 0.1520 - val_accuracy: 0.9553\n",
      "Epoch 67/200\n",
      "10/10 [==============================] - 29s 3s/step - loss: 0.1966 - accuracy: 0.9302 - val_loss: 0.1521 - val_accuracy: 0.9553\n",
      "Epoch 68/200\n",
      "10/10 [==============================] - 30s 3s/step - loss: 0.1731 - accuracy: 0.9397 - val_loss: 0.1504 - val_accuracy: 0.9519\n",
      "Epoch 69/200\n",
      "10/10 [==============================] - 30s 3s/step - loss: 0.1883 - accuracy: 0.9363 - val_loss: 0.1549 - val_accuracy: 0.9450\n",
      "Epoch 70/200\n",
      "10/10 [==============================] - 31s 3s/step - loss: 0.1620 - accuracy: 0.9432 - val_loss: 0.1612 - val_accuracy: 0.9519\n",
      "Epoch 71/200\n",
      "10/10 [==============================] - 30s 3s/step - loss: 0.1527 - accuracy: 0.9414 - val_loss: 0.1537 - val_accuracy: 0.9485\n",
      "Epoch 72/200\n",
      "10/10 [==============================] - 28s 3s/step - loss: 0.1612 - accuracy: 0.9423 - val_loss: 0.1480 - val_accuracy: 0.9553\n",
      "Epoch 73/200\n",
      "10/10 [==============================] - 28s 3s/step - loss: 0.1544 - accuracy: 0.9475 - val_loss: 0.1435 - val_accuracy: 0.9553\n",
      "Epoch 74/200\n",
      "10/10 [==============================] - 28s 3s/step - loss: 0.1479 - accuracy: 0.9475 - val_loss: 0.1436 - val_accuracy: 0.9553\n",
      "Epoch 75/200\n",
      "10/10 [==============================] - 27s 3s/step - loss: 0.1483 - accuracy: 0.9483 - val_loss: 0.1472 - val_accuracy: 0.9519\n",
      "Epoch 76/200\n",
      "10/10 [==============================] - 27s 3s/step - loss: 0.1474 - accuracy: 0.9466 - val_loss: 0.1532 - val_accuracy: 0.9519\n",
      "Epoch 77/200\n",
      "10/10 [==============================] - 29s 3s/step - loss: 0.1802 - accuracy: 0.9500 - val_loss: 0.1451 - val_accuracy: 0.9553\n",
      "Epoch 78/200\n",
      "10/10 [==============================] - 28s 3s/step - loss: 0.1125 - accuracy: 0.9552 - val_loss: 0.1431 - val_accuracy: 0.9588\n",
      "Epoch 79/200\n",
      "10/10 [==============================] - 26s 3s/step - loss: 0.1263 - accuracy: 0.9535 - val_loss: 0.1709 - val_accuracy: 0.9553\n",
      "Epoch 80/200\n",
      "10/10 [==============================] - 29s 3s/step - loss: 0.1623 - accuracy: 0.9371 - val_loss: 0.1583 - val_accuracy: 0.9485\n",
      "Epoch 81/200\n",
      "10/10 [==============================] - ETA: 0s - loss: 0.1494 - accuracy: 0.9518"
     ]
    }
   ],
   "source": [
    "aug = ImageDataGenerator(rotation_range=20, zoom_range=0.2, horizontal_flip=True)\n",
    "hist = model.fit(aug.flow(X_train, Y_train, batch_size=128), batch_size=128, epochs=200, validation_data=(X_test, Y_test))"
   ]
  },
  {
   "cell_type": "markdown",
   "metadata": {},
   "source": [
    "## Plotting Loss Values and Accuracy against Number of Epochs for Train Set and Test Set"
   ]
  },
  {
   "cell_type": "code",
   "execution_count": null,
   "metadata": {},
   "outputs": [],
   "source": [
    "figure = plt.figure(figsize=(10, 10))\n",
    "plt.plot(hist.history['accuracy'], label='Train_accuracy')\n",
    "plt.plot(hist.history['val_accuracy'], label='Test_accuracy')\n",
    "plt.title('Model Accuracy')\n",
    "plt.xlabel('Epochs')\n",
    "plt.ylabel('Accuracy')\n",
    "plt.legend(loc=\"upper left\")\n",
    "plt.show()\n",
    "\n",
    "figure2 = plt.figure(figsize=(10, 10))\n",
    "plt.plot(hist.history['loss'], label='Train_loss')\n",
    "plt.plot(hist.history['val_loss'], label='Test_loss')\n",
    "plt.title('Model Loss')\n",
    "plt.xlabel('Epochs')\n",
    "plt.ylabel('Loss')\n",
    "plt.legend(loc=\"upper left\")\n",
    "plt.show()"
   ]
  },
  {
   "cell_type": "markdown",
   "metadata": {},
   "source": [
    "## Evaluating Model on Test Set"
   ]
  },
  {
   "cell_type": "code",
   "execution_count": null,
   "metadata": {},
   "outputs": [],
   "source": [
    "pred = model.evaluate(X_test, Y_test)\n",
    "print(f'Test Set Accuracy: {pred[1]}')\n",
    "print(f'Test Set Loss: {pred[0]}')"
   ]
  },
  {
   "cell_type": "markdown",
   "metadata": {},
   "source": [
    "## Classification Report"
   ]
  },
  {
   "cell_type": "code",
   "execution_count": null,
   "metadata": {},
   "outputs": [],
   "source": [
    "ypred = model.predict(X_test)\n",
    "ypred = np.argmax(ypred, axis=1)\n",
    "Y_test_pred = np.argmax(Y_test, axis=1)\n",
    "print(classification_report(Y_test_pred, ypred))"
   ]
  },
  {
   "cell_type": "markdown",
   "metadata": {},
   "source": [
    "## Confusion Matrix"
   ]
  },
  {
   "cell_type": "code",
   "execution_count": null,
   "metadata": {},
   "outputs": [],
   "source": [
    "matrix = confusion_matrix(Y_test_pred, ypred)\n",
    "df_cm = pd.DataFrame(matrix, index=[0, 1], columns=[0, 1])\n",
    "figure = plt.figure(figsize=(5, 5))\n",
    "sns.heatmap(df_cm, annot=True, fmt='d')"
   ]
  },
  {
   "cell_type": "markdown",
   "metadata": {},
   "source": [
    "## Saving the Model"
   ]
  },
  {
   "cell_type": "code",
   "execution_count": null,
   "metadata": {},
   "outputs": [],
   "source": [
    "model.save('Driver_Drowsiness_Detection.h5')"
   ]
  },
  {
   "cell_type": "markdown",
   "metadata": {},
   "source": [
    "## Testing Model on Images\n",
    "\n",
    "### Testing the classification performnace on random images of Open and Closed Eyes"
   ]
  },
  {
   "cell_type": "code",
   "execution_count": null,
   "metadata": {},
   "outputs": [],
   "source": [
    "labels = ['Closed', 'Open']\n",
    "img_closed1 = cv2.imread('driver_drowsiness_detection/closed_eye.jpg')\n",
    "img_closed2 = cv2.imread('driver_drowsiness_detection/closed_eye2.jpg')\n",
    "img_open1 = cv2.imread('driver_drowsiness_detection/open_eye.jpg')\n",
    "img_open2 = cv2.imread('driver_drowsiness_detection/open_eye2.jpg')\n",
    "\n",
    "img_closed1 = cv2.resize(img_closed1, (32, 32))\n",
    "img_closed2 = cv2.resize(img_closed2, (32, 32))\n",
    "img_open1 = cv2.resize(img_open1, (32, 32))\n",
    "img_open2 = cv2.resize(img_open2, (32, 32))\n",
    "\n",
    "img_closed1 = np.array(img_closed1)\n",
    "img_closed2 = np.array(img_closed2)\n",
    "img_open1 = np.array(img_open1)\n",
    "img_open2 = np.array(img_open2)\n",
    "\n",
    "img_closed1 = np.expand_dims(img_closed1, axis=0)\n",
    "img_closed2 = np.expand_dims(img_closed2, axis=0)\n",
    "img_open1 = np.expand_dims(img_open1, axis=0)\n",
    "img_open2 = np.expand_dims(img_open2, axis=0)"
   ]
  },
  {
   "cell_type": "code",
   "execution_count": null,
   "metadata": {},
   "outputs": [],
   "source": [
    "ypred_closed1 = model.predict(img_closed1)\n",
    "ypred_closed2 = model.predict(img_closed2)\n",
    "ypred_open1 = model.predict(img_open1)\n",
    "ypred_open2 = model.predict(img_open2)"
   ]
  },
  {
   "cell_type": "code",
   "execution_count": null,
   "metadata": {},
   "outputs": [],
   "source": [
    "figure = plt.figure(figsize=(2, 2))\n",
    "img_closed1 = np.squeeze(img_closed1, axis=0)\n",
    "plt.imshow(img_closed1)\n",
    "plt.axis('off')\n",
    "plt.title(f'Prediction by the model: {labels[np.argmax(ypred_closed1[0], axis=0)]}')\n",
    "plt.show()"
   ]
  },
  {
   "cell_type": "code",
   "execution_count": null,
   "metadata": {},
   "outputs": [],
   "source": [
    "figure = plt.figure(figsize=(2, 2))\n",
    "img_closed2 = np.squeeze(img_closed2, axis=0)\n",
    "plt.imshow(img_closed2)\n",
    "plt.axis('off')\n",
    "plt.title(f'Prediction by the model: {labels[np.argmax(ypred_closed2[0], axis=0)]}')\n",
    "plt.show()"
   ]
  },
  {
   "cell_type": "code",
   "execution_count": null,
   "metadata": {},
   "outputs": [],
   "source": [
    "figure = plt.figure(figsize=(2, 2))\n",
    "img_open1 = np.squeeze(img_open1, axis=0)\n",
    "plt.imshow(img_open1)\n",
    "plt.axis('off')\n",
    "plt.title(f'Prediction by the model: {labels[np.argmax(ypred_open1[0], axis=0)]}')\n",
    "plt.show()"
   ]
  },
  {
   "cell_type": "code",
   "execution_count": null,
   "metadata": {},
   "outputs": [],
   "source": [
    "figure = plt.figure(figsize=(2, 2))\n",
    "img_open2 = np.squeeze(img_open2, axis=0)\n",
    "plt.imshow(img_open2)\n",
    "plt.axis('off')\n",
    "plt.title(f'Prediction by the model: {labels[np.argmax(ypred_open2[0], axis=0)]}')\n",
    "plt.show()"
   ]
  },
  {
   "cell_type": "markdown",
   "metadata": {},
   "source": [
    "## Creating Pipeline for making predictions on full face images"
   ]
  },
  {
   "cell_type": "code",
   "execution_count": null,
   "metadata": {},
   "outputs": [],
   "source": [
    "def full_face_detection_pipeline(input_image_path):\n",
    "    face_cascade = cv2.CascadeClassifier('driver_drowsiness_detection/haarcascade_frontalface_default.xml')\n",
    "    eye_cascade = cv2.CascadeClassifier('driver_drowsiness_detection/haarcascade_eye.xml')\n",
    "    detector = dlib.get_frontal_face_detector()\n",
    "    predictor = dlib.shape_predictor('driver_drowsiness_detection/shape_predictor_68_face_landmarks.dat')\n",
    "    fa = FaceAligner(predictor, desiredFaceWidth=256)\n",
    "    test_image = cv2.imread(input_image_path)\n",
    "    test_image = imutils.resize(test_image, width=800)\n",
    "    test_image_gray = cv2.cvtColor(test_image, cv2.COLOR_BGR2GRAY)\n",
    "    rects = detector(test_image_gray, 2)\n",
    "    for rect in rects:\n",
    "        (x, y, w, h) = rect_to_bb(rect)\n",
    "        faceOrig = imutils.resize(test_image[y:y+h, x:x+w], width=256)\n",
    "        faceAligned = fa.align(test_image, test_image_gray, rect)\n",
    "        faceAligned_gray = cv2.cvtColor(faceAligned, cv2.COLOR_BGR2GRAY)\n",
    "        plt.imshow(faceAligned_gray)\n",
    "        plt.axis('off')\n",
    "        plt.title('Aligned Face')\n",
    "        plt.show()\n",
    "        eyes = eye_cascade.detectMultiScale(faceAligned_gray, 1.1, 4)\n",
    "        predictions = []\n",
    "        for (ex, ey, ew, eh) in eyes:\n",
    "            eye = faceAligned[ey:ey+eh, ex:ex+ew]\n",
    "#             cv2.rectangle(test_image, (x+ex, y+ey), (x+ex+ew, y+ey+eh), (0, 0, 255), 8)\n",
    "            eye = cv2.resize(eye, (32, 32))\n",
    "            eye = np.array(eye)\n",
    "            eye = np.expand_dims(eye, axis=0)\n",
    "            ypred = model.predict(eye)\n",
    "            ypred = np.argmax(ypred[0], axis=0)\n",
    "            predictions.append(ypred)\n",
    "        if all(i==0 for i in predictions):\n",
    "            cv2.rectangle(test_image, (x, y), (x+w, y+h), (0, 0, 255), 8)\n",
    "            cv2.putText(test_image, 'Sleeping', (x, y-10), cv2.FONT_HERSHEY_SIMPLEX, 1.5, (0, 0, 255), 3)\n",
    "        else:\n",
    "            cv2.rectangle(test_image, (x, y), (x+w, y+h), (0, 255, 0), 8)\n",
    "            cv2.putText(test_image, 'Not Sleeping', (x, y-10), cv2.FONT_HERSHEY_SIMPLEX, 1.5, (0, 255, 0), 3)\n",
    "    output_path = 'driver_drowsiness_detection/test_image_prediction.jpg'\n",
    "    cv2.imwrite(output_path, test_image) \n",
    "    return output_path"
   ]
  },
  {
   "cell_type": "code",
   "execution_count": null,
   "metadata": {},
   "outputs": [],
   "source": [
    "figure = plt.figure(figsize=(5, 5))\n",
    "predicted_image = cv2.imread(full_face_detection_pipeline('driver_drowsiness_detection/active_person.jpg'))\n",
    "predicted_image = cv2.cvtColor(predicted_image, cv2.COLOR_BGR2RGB)\n",
    "plt.imshow(predicted_image)\n",
    "plt.axis('off')\n",
    "plt.show()"
   ]
  },
  {
   "cell_type": "code",
   "execution_count": null,
   "metadata": {},
   "outputs": [],
   "source": [
    "figure = plt.figure(figsize=(5, 5))\n",
    "predicted_image = cv2.imread(full_face_detection_pipeline('driver_drowsiness_detection/drowsy_person.jpg'))\n",
    "predicted_image = cv2.cvtColor(predicted_image, cv2.COLOR_BGR2RGB)\n",
    "plt.imshow(predicted_image)\n",
    "plt.axis('off')\n",
    "plt.show()"
   ]
  },
  {
   "cell_type": "code",
   "execution_count": null,
   "metadata": {},
   "outputs": [],
   "source": [
    "figure = plt.figure(figsize=(5, 5))\n",
    "predicted_image = cv2.imread(full_face_detection_pipeline('driver_drowsiness_detection/sleepy-driver.jpg'))\n",
    "predicted_image = cv2.cvtColor(predicted_image, cv2.COLOR_BGR2RGB)\n",
    "plt.imshow(predicted_image)\n",
    "plt.axis('off')\n",
    "plt.show()"
   ]
  },
  {
   "cell_type": "markdown",
   "metadata": {},
   "source": [
    "# deepCC "
   ]
  },
  {
   "cell_type": "code",
   "execution_count": null,
   "metadata": {},
   "outputs": [],
   "source": [
    "!deepCC Driver_Drowsiness_Detection.h5"
   ]
  },
  {
   "cell_type": "code",
   "execution_count": null,
   "metadata": {},
   "outputs": [],
   "source": []
  }
 ],
 "metadata": {
  "kernelspec": {
   "display_name": "Python 3",
   "language": "python",
   "name": "python3"
  },
  "language_info": {
   "codemirror_mode": {
    "name": "ipython",
    "version": 3
   },
   "file_extension": ".py",
   "mimetype": "text/x-python",
   "name": "python",
   "nbconvert_exporter": "python",
   "pygments_lexer": "ipython3",
   "version": "3.7.3"
  }
 },
 "nbformat": 4,
 "nbformat_minor": 4
}
